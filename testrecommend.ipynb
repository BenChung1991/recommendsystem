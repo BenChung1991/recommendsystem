{
 "cells": [
  {
   "cell_type": "code",
   "execution_count": 1,
   "metadata": {},
   "outputs": [
    {
     "name": "stdout",
     "output_type": "stream",
     "text": [
      "為用戶 0 推薦的物品: [(2, 2.763513112447093), (4, 1.321703666606819)]\n",
      "為用戶 1 推薦的物品: [(3, 4.265516836836909), (1, 1.7729463856795256)]\n",
      "為用戶 2 推薦的物品: []\n",
      "為用戶 3 推薦的物品: [(0, 2.6100338402597085), (2, 2.5219721733686438)]\n",
      "為用戶 4 推薦的物品: [(1, 1.8609860567471155), (4, 1.3607754350117724)]\n"
     ]
    }
   ],
   "source": [
    "import numpy as np\n",
    "from sklearn.metrics.pairwise import cosine_similarity\n",
    "\n",
    "ratings = np.array([\n",
    "    [4, 3, 0, 5, 0],\n",
    "    [5, 0, 4, 0, 2],\n",
    "    [3, 1, 2, 4, 1],\n",
    "    [0, 0, 0, 2, 0],\n",
    "    [1, 0, 3, 4, 0],\n",
    "])\n",
    "\n",
    "def compute_user_similarity(ratings):\n",
    "    return cosine_similarity(ratings)\n",
    "\n",
    "\n",
    "def recommend(user_id, ratings, user_similarity, k=2):\n",
    "\n",
    "    similar_users = user_similarity[user_id].argsort()[::-1][1:]\n",
    "    \n",
    "   \n",
    "    user_ratings = ratings[user_id]\n",
    "    unrated_items = np.where(user_ratings == 0)[0]\n",
    "    \n",
    "    recommendations = []\n",
    "    for item in unrated_items:\n",
    "       \n",
    "        item_ratings = ratings[:, item]\n",
    "        similar_users_rated = similar_users[item_ratings[similar_users] > 0]\n",
    "        \n",
    "        if len(similar_users_rated) > 0:\n",
    "           \n",
    "            weighted_sum = sum(ratings[u, item] * user_similarity[user_id, u] for u in similar_users_rated)\n",
    "            similarity_sum = sum(user_similarity[user_id, u] for u in similar_users_rated)\n",
    "            \n",
    "            recommendations.append((item, weighted_sum / similarity_sum))\n",
    "    \n",
    "    return sorted(recommendations, key=lambda x: x[1], reverse=True)[:k]\n",
    "\n",
    "\n",
    "user_similarity = compute_user_similarity(ratings)\n",
    "\n",
    "for x in range(5):\n",
    "    user_id = x\n",
    "    recommendations = recommend(user_id, ratings, user_similarity)\n",
    "    print(f\"為用戶 {user_id} 推薦的物品: {recommendations}\")"
   ]
  },
  {
   "cell_type": "code",
   "execution_count": null,
   "metadata": {},
   "outputs": [],
   "source": []
  }
 ],
 "metadata": {
  "kernelspec": {
   "display_name": "tensorwork",
   "language": "python",
   "name": "python3"
  },
  "language_info": {
   "codemirror_mode": {
    "name": "ipython",
    "version": 3
   },
   "file_extension": ".py",
   "mimetype": "text/x-python",
   "name": "python",
   "nbconvert_exporter": "python",
   "pygments_lexer": "ipython3",
   "version": "3.10.6"
  }
 },
 "nbformat": 4,
 "nbformat_minor": 2
}
